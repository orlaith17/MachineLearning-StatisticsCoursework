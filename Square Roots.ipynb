{
 "cells": [
  {
   "cell_type": "markdown",
   "id": "8b702d1d-511a-497a-9f7a-5f16d1a81b2b",
   "metadata": {},
   "source": [
    "# Square Roots\n",
    "\n",
    "***"
   ]
  },
  {
   "cell_type": "code",
   "execution_count": 102,
   "id": "2d4e40d3-9387-4fa0-b0b6-067258fda561",
   "metadata": {},
   "outputs": [],
   "source": [
    "x = 225"
   ]
  },
  {
   "cell_type": "code",
   "execution_count": 103,
   "id": "351773a9-1e6b-4b9f-95e7-d6d0d6718bf0",
   "metadata": {},
   "outputs": [
    {
     "name": "stdout",
     "output_type": "stream",
     "text": [
      "15\n"
     ]
    }
   ],
   "source": [
    "# Loop through values (i) from 0 to x-1. \n",
    "for i in range (x-1):\n",
    "    # Check if i squared is equal to x.\n",
    "    if (i**2) - x == 0:\n",
    "        # Print the square root. \n",
    "        print(i)\n",
    "        #Finish\n",
    "        break"
   ]
  },
  {
   "cell_type": "code",
   "execution_count": 104,
   "id": "70f0a875-3e55-463d-b8ee-29d2795fe3b4",
   "metadata": {},
   "outputs": [],
   "source": [
    "x = 196"
   ]
  },
  {
   "cell_type": "code",
   "execution_count": 105,
   "id": "64e2edc8-53f6-4bd0-9159-0155091b8a44",
   "metadata": {},
   "outputs": [
    {
     "name": "stdout",
     "output_type": "stream",
     "text": [
      "14\n"
     ]
    }
   ],
   "source": [
    "# Loop through values (i) from 0 to x-1. \n",
    "for i in range (x-1):\n",
    "    # Check if i squared is equal to x.\n",
    "    if (i**2) - x == 0:\n",
    "        # Print the square root. \n",
    "        print(i)\n",
    "        #Finish\n",
    "        break"
   ]
  },
  {
   "cell_type": "code",
   "execution_count": 106,
   "id": "f1fc3ac6-aca8-44cd-942f-8995fd755dbb",
   "metadata": {},
   "outputs": [],
   "source": [
    "x = 200"
   ]
  },
  {
   "cell_type": "code",
   "execution_count": 107,
   "id": "68b81055-6952-4a9d-aebe-c3ce9c4ce113",
   "metadata": {},
   "outputs": [],
   "source": [
    "# Loop through values (i) from 0 to x-1. \n",
    "for i in range (x-1):\n",
    "    # Check if i squared is equal to x.\n",
    "    if (i**2) - x == 0:\n",
    "        # Print the square root. \n",
    "        print(i)\n",
    "        #Finish\n",
    "        break\n",
    "        \n",
    "# Doesn't work. "
   ]
  },
  {
   "cell_type": "markdown",
   "id": "77bbce3a-b13c-46b5-85e3-861089afed2f",
   "metadata": {},
   "source": [
    "## Non-integer square roots\n",
    "\n",
    "***"
   ]
  },
  {
   "cell_type": "code",
   "execution_count": 108,
   "id": "d64ae32f-9daf-4ea7-991c-ba3508633bfa",
   "metadata": {},
   "outputs": [],
   "source": [
    "import numpy as np"
   ]
  },
  {
   "cell_type": "code",
   "execution_count": 109,
   "id": "27d19cd7-a425-4d9f-90f6-a2b7a70351e9",
   "metadata": {},
   "outputs": [],
   "source": [
    "x = 200"
   ]
  },
  {
   "cell_type": "code",
   "execution_count": 110,
   "id": "623d5a9d-faf4-49b2-80d7-c699785f0d05",
   "metadata": {
    "tags": []
   },
   "outputs": [],
   "source": [
    "increment = 0.001"
   ]
  },
  {
   "cell_type": "code",
   "execution_count": 111,
   "id": "dffb0bd8-0644-412d-bd35-65644cf16ee4",
   "metadata": {},
   "outputs": [],
   "source": [
    "# Loop through values (i) from 0 to x-1. \n",
    "for i in np.arange (0.0, x, increment):\n",
    "    # Check if i squared is equal to x.\n",
    "    if (i**2) - x == 0:\n",
    "        # Print the square root. \n",
    "        print(i)\n",
    "        #Finish\n",
    "        break\n",
    "        \n",
    "# This doesn't work. "
   ]
  },
  {
   "cell_type": "code",
   "execution_count": 112,
   "id": "2fe8ee7c-cac5-49ef-b4af-10cf11d51af7",
   "metadata": {},
   "outputs": [
    {
     "name": "stdout",
     "output_type": "stream",
     "text": [
      "14.142\n"
     ]
    }
   ],
   "source": [
    "# Loop through values (i) from 0 to x-1. \n",
    "for i in np.arange(0.0, x, increment):\n",
    "    # Check if i squared is equal to x.\n",
    "    if abs((i**2) - x) <= 0.01:\n",
    "        # Print the square root. \n",
    "        print(i)\n",
    "        #Finish\n",
    "        break\n",
    "        \n",
    "# This does work. "
   ]
  },
  {
   "cell_type": "code",
   "execution_count": 113,
   "id": "a9b0b334-86de-49ff-9508-87c54901c226",
   "metadata": {},
   "outputs": [
    {
     "data": {
      "text/plain": [
       "199.996164"
      ]
     },
     "execution_count": 113,
     "metadata": {},
     "output_type": "execute_result"
    }
   ],
   "source": [
    "# Double check\n",
    "14.142**2"
   ]
  },
  {
   "cell_type": "code",
   "execution_count": 114,
   "id": "3ff523bc-9c44-4092-992d-5662c117776e",
   "metadata": {},
   "outputs": [
    {
     "name": "stdout",
     "output_type": "stream",
     "text": [
      "14.142\n",
      "No iterations: 14143\n"
     ]
    }
   ],
   "source": [
    "# Track number of iterations.\n",
    "no_iter = 0\n",
    "\n",
    "# Loop through values (i) from 0 to x-1. \n",
    "for i in np.arange(0.0, x, increment):\n",
    "    no_iter = no_iter + 1\n",
    "    # Check if i squared is equal to x.\n",
    "    if abs((i**2) - x) <= 0.01:\n",
    "        # Print the square root. \n",
    "        print(i)\n",
    "        #Finish\n",
    "        break\n",
    "        \n",
    "# Show number of iterations. \n",
    "print(f\"No iterations: {no_iter}\")"
   ]
  },
  {
   "cell_type": "code",
   "execution_count": 115,
   "id": "ef24d4ad-f9fa-477b-bad8-594b6a74dd58",
   "metadata": {},
   "outputs": [
    {
     "data": {
      "text/plain": [
       "14.142135623730951"
      ]
     },
     "execution_count": 115,
     "metadata": {},
     "output_type": "execute_result"
    }
   ],
   "source": [
    "np.sqrt(200)"
   ]
  },
  {
   "cell_type": "markdown",
   "id": "e546d85a-02bf-40e4-a730-58575ec632e1",
   "metadata": {},
   "source": [
    "## The Square Root of 2\n",
    "\n",
    "***"
   ]
  },
  {
   "cell_type": "markdown",
   "id": "4f573976-60ec-4b09-a278-0f92e0e8a14c",
   "metadata": {},
   "source": [
    "$ \\sqrt{200} = \\sqrt{2(100)} = \\sqrt{2}\\sqrt{100} = 10\\sqrt{2} $\n",
    "\n",
    "As above the number 200 is unusual. This is because the sqaure root of 2 is an irrational number, and behaves differently to other numbers \n",
    "decimel expansion never repeats, no fraction it can be written as, can't be stored on a floating point number, is only ever an approximation on a computer. \n",
    "\n",
    "$ \\sqrt{2} \\neq  \\frac{a}{b} $\n",
    "\n",
    "Simple theorem to be found online, for integers a and b, a over b can never be equal to the square root of 2. \n"
   ]
  },
  {
   "cell_type": "markdown",
   "id": "2d8f6a23-b26d-4f5e-86f9-4381e79fa45f",
   "metadata": {},
   "source": [
    "## Newtons Method\n",
    "\n",
    "***"
   ]
  },
  {
   "cell_type": "markdown",
   "id": "ebde91fd-6d44-4cf0-b840-567916a6fd06",
   "metadata": {},
   "source": [
    "Newtons Method gets very close to the number in a very few number of iterations of the code"
   ]
  },
  {
   "cell_type": "code",
   "execution_count": 116,
   "id": "2b398cb2-6f78-4d0f-b465-7225a03dc608",
   "metadata": {},
   "outputs": [],
   "source": [
    "# We're looking for the square root of x. \n",
    "x = 200"
   ]
  },
  {
   "cell_type": "code",
   "execution_count": 117,
   "id": "1398a800-e710-417c-9507-981ca057c1f4",
   "metadata": {},
   "outputs": [
    {
     "name": "stdout",
     "output_type": "stream",
     "text": [
      "14.142135642135642\n"
     ]
    }
   ],
   "source": [
    "# Initial guess. \n",
    "z = 14\n",
    "\n",
    "# Loop until we get a good approximation. \n",
    "while abs(z**2 - x) > 0.01: \n",
    "    z = z - ((z**2 - x) / (2 * z))\n",
    "\n",
    "# Show the result\n",
    "print(z)"
   ]
  },
  {
   "cell_type": "code",
   "execution_count": 118,
   "id": "f2091249-e134-49ff-9cd0-527b979bf91f",
   "metadata": {},
   "outputs": [
    {
     "name": "stdout",
     "output_type": "stream",
     "text": [
      "14.142135642135642\n",
      "No iterations: 2\n"
     ]
    }
   ],
   "source": [
    "# Track number of iterations.\n",
    "no_iter = 0\n",
    "\n",
    "# Initial guess. \n",
    "z = 14\n",
    "\n",
    "# Loop until we get a good approximation. \n",
    "while abs(z**2 - x) > 0.01: \n",
    "    no_iter = no_iter + 1\n",
    "    \n",
    "    # this algorithm derives from Calculus\n",
    "    z = z - ((z**2 - x) / (2 * z))\n",
    "\n",
    "# Show the result\n",
    "print(z)\n",
    "\n",
    "# Show number of iterations. \n",
    "print(f\"No iterations: {no_iter}\")"
   ]
  },
  {
   "cell_type": "markdown",
   "id": "88d8e44e-0f1a-45db-b65e-08c2bb3b7084",
   "metadata": {},
   "source": [
    "## Why/how does Newton's Method work?\n",
    "\n",
    "https://tour.golang.org/flowcontrol/8\n",
    "\n",
    "***"
   ]
  },
  {
   "cell_type": "markdown",
   "id": "9dcd040a-d0dc-4433-a65d-728ff1d2d16c",
   "metadata": {},
   "source": [
    "$ f(z) = (z^2 - x) $\n",
    "\n",
    "x is constant\n",
    "\n",
    "$ f'(z) = 2z $"
   ]
  },
  {
   "cell_type": "code",
   "execution_count": 119,
   "id": "5e0b952e-422a-4712-906e-cbcbf101f5d2",
   "metadata": {},
   "outputs": [],
   "source": [
    "import matplotlib.pyplot as plt\n",
    "\n",
    "plt.rcParams[\"figure.figsize\"] = (16,8)"
   ]
  },
  {
   "cell_type": "code",
   "execution_count": 123,
   "id": "8cbf1f20-44e2-481b-b54b-4425c1011b10",
   "metadata": {},
   "outputs": [
    {
     "data": {
      "text/plain": [
       "[<matplotlib.lines.Line2D at 0x10842be0>]"
      ]
     },
     "execution_count": 123,
     "metadata": {},
     "output_type": "execute_result"
    },
    {
     "data": {
      "image/png": "[encoded data removed]",
      "text/plain": [
       "<Figure size 1152x576 with 1 Axes>"
      ]
     },
     "metadata": {
      "needs_background": "light"
     },
     "output_type": "display_data"
    }
   ],
   "source": [
    "fig, ax = plt.subplots()\n",
    "\n",
    "x = 200.0\n",
    "z = np.linspace(-20.0, 20.0, 1000)\n",
    "\n",
    "plt.plot(z, np.zeros(z.size), 'k:')\n",
    "plt.plot(z, z**2 - x)\n",
    "\n",
    "# its no coincidence that the z**2 - x cuts the x-axis at 0 where the square root is"
   ]
  },
  {
   "cell_type": "code",
   "execution_count": 124,
   "id": "a473fb0d-e67b-4ea7-b078-9d0785ed6768",
   "metadata": {},
   "outputs": [
    {
     "data": {
      "image/png": "[encoded data removed]",
      "text/plain": [
       "<Figure size 1152x576 with 1 Axes>"
      ]
     },
     "metadata": {
      "needs_background": "light"
     },
     "output_type": "display_data"
    }
   ],
   "source": [
    "fig, ax = plt.subplots()\n",
    "\n",
    "x = 200.0\n",
    "z = np.linspace(1.0, 20.0, 1000)\n",
    "\n",
    "ax.plot(z, np.zeros(z.size), 'k:', label = '$x$-axis')\n",
    "ax.plot(z, z**2 - x, label = '$z^2 - x$')\n",
    "ax.set_xlabel('$z$')\n",
    "ax.legend();"
   ]
  },
  {
   "cell_type": "code",
   "execution_count": 128,
   "id": "c66e3813-e38f-44c3-9d0a-90023504a6a3",
   "metadata": {},
   "outputs": [
    {
     "data": {
      "image/png": "[encoded data removed]",
      "text/plain": [
       "<Figure size 1152x576 with 1 Axes>"
      ]
     },
     "metadata": {
      "needs_background": "light"
     },
     "output_type": "display_data"
    }
   ],
   "source": [
    "fig, ax = plt.subplots()\n",
    "\n",
    "x = 200.0\n",
    "z = np.linspace(10.0, 20.0, 1000)\n",
    "\n",
    "ax.plot(z, z - ((z**2 - x)/(2 * z)), label = '$z - ((z^2 - x) / 2z)$')\n",
    "ax.set_xlabel('$z$')\n",
    "ax.legend();"
   ]
  },
  {
   "cell_type": "markdown",
   "id": "e8889744-f029-400a-9ffe-e657f53015a5",
   "metadata": {},
   "source": [
    "***\n",
    "\n",
    "# End "
   ]
  },
  {
   "cell_type": "code",
   "execution_count": null,
   "id": "c53c2e48-abcc-4695-af55-8a0f368a97f2",
   "metadata": {},
   "outputs": [],
   "source": []
  }
 ],
 "metadata": {
  "kernelspec": {
   "display_name": "Python 3",
   "language": "python",
   "name": "python3"
  },
  "language_info": {
   "codemirror_mode": {
    "name": "ipython",
    "version": 3
   },
   "file_extension": ".py",
   "mimetype": "text/x-python",
   "name": "python",
   "nbconvert_exporter": "python",
   "pygments_lexer": "ipython3",
   "version": "3.8.8"
  }
 },
 "nbformat": 4,
 "nbformat_minor": 5
}
